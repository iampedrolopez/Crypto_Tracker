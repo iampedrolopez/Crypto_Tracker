{
 "cells": [
  {
   "cell_type": "code",
   "execution_count": 1,
   "metadata": {},
   "outputs": [],
   "source": [
    "##Used libraries\n",
    "import pandas as pd\n",
    "import numpy as np\n",
    "import os\n",
    "import html5lib\n",
    "import datetime\n",
    "from datetime import timedelta"
   ]
  },
  {
   "cell_type": "code",
   "execution_count": 2,
   "metadata": {},
   "outputs": [],
   "source": [
    "#Function to extract data\n",
    "def crypto_dataset(name,start_date,end_date):\n",
    "    \"\"\"This function creates panel data with the percentage returns from a \n",
    "    cryptocurrency using the closing value obtained from www.coinmarketcap.com\n",
    "    , along with various lagged returns from prior trading periods (Lags defaults\n",
    "    to 5 days. Trading volume, Direction from previous day and market cap.\"\"\"\n",
    "    \n",
    "    #Download the information from the web\n",
    "    df = pd.read_html('https://coinmarketcap.com/currencies/'+name+\n",
    "                       '/historical-data/?start='+\n",
    "                      start_date.strftime('%Y%m%d')+\n",
    "                      '&end='+end_date.strftime('%Y%m%d'))[0]\n",
    "    \n",
    "    ###Lowercase all column headers\n",
    "    df.columns = df.columns.str.lower()\n",
    "    \n",
    "    #Set the 'Date' column as the index\n",
    "    df['date'] = pd.to_datetime(df['date'])\n",
    "    df.set_index(['date'],inplace=True)\n",
    "    \n",
    "    \n",
    "    ###Pre-Processing of the data\n",
    "    \n",
    "    #Create range Column: Variation betwwen the day\n",
    "    df['range'] = ((df['close'] - df['open'])/df['open'])*100\n",
    "    df['volume'] = pd.to_numeric(df['volume'],errors=\"coerce\")\n",
    "    df['market cap'] = pd.to_numeric(df['market cap'],errors=\"coerce\")\n",
    "    \n",
    "    #Calculate Percentage return for various periods\n",
    "    \n",
    "    df['today'] = df['close'].pct_change(-1) #  \n",
    "    df['dlag1'] = df['today'].shift(-1) # 1 DAY lookback\n",
    "    df['dlag2'] = df['today'].shift(-2) # 2 DAY lookback\n",
    "    df['dlag3'] = df['today'].shift(-3) # 3 DAY lookback\n",
    "    df['dlag4'] = df['today'].shift(-4) # 4 DAY lookback\n",
    "    df['dlag5'] = df['today'].shift(-5) # 5 DAY lookback\n",
    "    \n",
    "    ##Drop NA rows\n",
    "    df.dropna(inplace=True)\n",
    "    \n",
    "    ###Create response variable\n",
    "    df['todaydir'] = np.where(df['today']>=0.0000, 'Up', 'Down')\n",
    "    \n",
    "    ###Remove spaces in columns\n",
    "    df.rename(columns={'market cap':'marketcap'},inplace=True)\n",
    "    \n",
    "    ###Create directory to store data\n",
    "    if not os.path.exists('Data'):\n",
    "        os.makedirs('Data')\n",
    "    \n",
    "    ###Store data into csv file\n",
    "    df.to_csv('Data/panda'+name+'.csv',float_format='%.4f', encoding='utf-8', index=True)\n",
    "    print(''+name+' Ok')\n",
    "    return"
   ]
  },
  {
   "cell_type": "markdown",
   "metadata": {},
   "source": [
    "---------------------------------------------------------------------------------------------------------------------\n",
    "\n",
    "\n",
    "---------------------------------------------------------------------------------------------------------------------"
   ]
  },
  {
   "cell_type": "code",
   "execution_count": 3,
   "metadata": {},
   "outputs": [],
   "source": [
    "with open('coins.txt','r') as f:\n",
    "    coins = f.read().splitlines()"
   ]
  },
  {
   "cell_type": "code",
   "execution_count": 4,
   "metadata": {},
   "outputs": [],
   "source": [
    "#Select Period to track\n",
    "start_date = datetime.datetime(day=1,month=1,year=2017)\n",
    "end_date = datetime.datetime(day=31,month=12,year=2018)"
   ]
  },
  {
   "cell_type": "code",
   "execution_count": 5,
   "metadata": {
    "scrolled": true
   },
   "outputs": [
    {
     "name": "stdout",
     "output_type": "stream",
     "text": [
      "bitcoin Ok\n",
      "ethereum Ok\n",
      "bitcoin-cash Ok\n",
      "ripple Ok\n",
      "litecoin Ok\n",
      "iota Ok\n",
      "dash Ok\n",
      "cardano Ok\n",
      "nem Ok\n",
      "bitcoin-gold Ok\n",
      "monero Ok\n",
      "stellar Ok\n",
      "ethereum-classic Ok\n",
      "neo Ok\n",
      "qtum Ok\n",
      "bitconnect Ok\n",
      "zcash Ok\n",
      "waves Ok\n",
      "lisk Ok\n",
      "stratis Ok\n"
     ]
    }
   ],
   "source": [
    "for item in coins:\n",
    "    crypto_dataset(item,start_date,end_date) "
   ]
  }
 ],
 "metadata": {
  "kernelspec": {
   "display_name": "Python 3.5",
   "language": "python",
   "name": "python35"
  },
  "language_info": {
   "codemirror_mode": {
    "name": "ipython",
    "version": 3
   },
   "file_extension": ".py",
   "mimetype": "text/x-python",
   "name": "python",
   "nbconvert_exporter": "python",
   "pygments_lexer": "ipython3",
   "version": "3.5.1"
  }
 },
 "nbformat": 4,
 "nbformat_minor": 2
}
